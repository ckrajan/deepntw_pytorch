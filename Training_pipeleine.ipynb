{
 "cells": [
  {
   "cell_type": "code",
   "execution_count": 33,
   "id": "85dabf09",
   "metadata": {},
   "outputs": [
    {
     "name": "stdout",
     "output_type": "stream",
     "text": [
      "samples:4, features:1\n",
      "Prediction before training: f(5)= 0.411\n",
      "epoch= 1 w= 0.2692711651325226 loss= tensor(25.8907, grad_fn=<MseLossBackward0>)\n",
      "epoch= 11 w= 1.4408637285232544 loss= tensor(0.8298, grad_fn=<MseLossBackward0>)\n",
      "epoch= 21 w= 1.637606143951416 loss= tensor(0.1721, grad_fn=<MseLossBackward0>)\n",
      "epoch= 31 w= 1.677299976348877 loss= tensor(0.1463, grad_fn=<MseLossBackward0>)\n",
      "epoch= 41 w= 1.6914951801300049 loss= tensor(0.1374, grad_fn=<MseLossBackward0>)\n",
      "epoch= 51 w= 1.7013579607009888 loss= tensor(0.1294, grad_fn=<MseLossBackward0>)\n",
      "epoch= 61 w= 1.7103002071380615 loss= tensor(0.1219, grad_fn=<MseLossBackward0>)\n",
      "epoch= 71 w= 1.7188770771026611 loss= tensor(0.1148, grad_fn=<MseLossBackward0>)\n",
      "epoch= 81 w= 1.7271841764450073 loss= tensor(0.1081, grad_fn=<MseLossBackward0>)\n",
      "epoch= 91 w= 1.735243320465088 loss= tensor(0.1018, grad_fn=<MseLossBackward0>)\n",
      "Prediction after training: f(5) = 9.469\n"
     ]
    }
   ],
   "source": [
    "import torch\n",
    "import torch.nn as nn\n",
    "\n",
    "x = torch.tensor([[1], [2], [3], [4]], dtype=torch.float32)\n",
    "y = torch.tensor([[2], [4], [6], [8]], dtype=torch.float32)\n",
    "\n",
    "n_samples, n_features = x.shape\n",
    "print(f'samples:{n_samples}, features:{n_features}')\n",
    "\n",
    "x_test = torch.tensor([5], dtype=torch.float32)\n",
    "\n",
    "input_size = n_features\n",
    "output_size = n_features\n",
    "\n",
    "model = nn.Linear(input_size, output_size)\n",
    "\n",
    "print(f'Prediction before training: f(5)= {model(x_test).item():.3f}')\n",
    "\n",
    "learning_rate = 0.01\n",
    "n_iters = 100\n",
    "\n",
    "loss = nn.MSELoss()\n",
    "optimizer = torch.optim.SGD(model.parameters(), lr=learning_rate)\n",
    "\n",
    "for epoch in range(n_iters):\n",
    "    \n",
    "    # forward pass\n",
    "    y_pred = model(x)\n",
    "\n",
    "    # loss\n",
    "    l = loss(y, y_pred)\n",
    "\n",
    "    # backward pass\n",
    "    l.backward()\n",
    "\n",
    "    # updating weights\n",
    "    optimizer.step()\n",
    "\n",
    "    optimizer.zero_grad()\n",
    "\n",
    "    if epoch % 10 == 0:\n",
    "        [w, b] = model.parameters()\n",
    "        print('epoch=', epoch+1, 'w=',w[0][0].item(), 'loss=', l)\n",
    "\n",
    "print(f'Prediction after training: f(5) = {model(x_test).item():.3f}')"
   ]
  }
 ],
 "metadata": {
  "kernelspec": {
   "display_name": "Python 3",
   "language": "python",
   "name": "python3"
  },
  "language_info": {
   "codemirror_mode": {
    "name": "ipython",
    "version": 3
   },
   "file_extension": ".py",
   "mimetype": "text/x-python",
   "name": "python",
   "nbconvert_exporter": "python",
   "pygments_lexer": "ipython3",
   "version": "3.8.8"
  }
 },
 "nbformat": 4,
 "nbformat_minor": 5
}
