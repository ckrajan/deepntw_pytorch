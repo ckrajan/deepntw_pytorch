{
 "cells": [
  {
   "cell_type": "code",
   "execution_count": 1,
   "id": "6624ea93",
   "metadata": {},
   "outputs": [
    {
     "name": "stdout",
     "output_type": "stream",
     "text": [
      "tensor([1.5044e-26, 4.5696e-41, 1.5044e-26])\n",
      "tensor([[[-2.4310e+05,  3.0714e-41, -7.6737e+04],\n",
      "         [ 3.0714e-41,  3.9558e-29,  4.5696e-41]],\n",
      "\n",
      "        [[ 1.4013e-45,  0.0000e+00,  4.2039e-45],\n",
      "         [ 0.0000e+00,  0.0000e+00,  0.0000e+00]]])\n",
      "tensor([[1.],\n",
      "        [1.],\n",
      "        [1.],\n",
      "        [1.],\n",
      "        [1.],\n",
      "        [1.],\n",
      "        [1.],\n",
      "        [1.],\n",
      "        [1.]])\n",
      "tensor([[2., 2., 2.],\n",
      "        [2., 2., 2.],\n",
      "        [2., 2., 2.]])\n",
      "tensor([[ 0.7392,  0.9190],\n",
      "        [ 0.5196, -2.6665]], requires_grad=True)\n",
      "tensor([1., 2., 3.])\n",
      "[1. 2. 3.]\n",
      "tensor([1., 2., 3.])\n",
      "tensor(3.)\n",
      "tensor([0.7392, 0.5196], grad_fn=<SelectBackward0>)\n"
     ]
    }
   ],
   "source": [
    "import torch\n",
    "\n",
    "a = torch.empty(3)\n",
    "print(a)\n",
    "a = torch.empty(2,2,3)\n",
    "print(a)\n",
    "\n",
    "b = torch.ones(3,3)\n",
    "print(b.view(-1,1))\n",
    "c = torch.ones(3,3)\n",
    "\n",
    "d = b.add_(c)\n",
    "print(d)\n",
    "\n",
    "t1 = torch.randn((2,2), requires_grad=True)\n",
    "t2 = torch.tensor([1., 2., 3.])\n",
    "print(t1)\n",
    "print(t2)\n",
    "\n",
    "n = t2.numpy()\n",
    "print(n)\n",
    "\n",
    "t3 = torch.from_numpy(n)\n",
    "print(t3)\n",
    "\n",
    "print(t3[2])\n",
    "print(t1[0:,0])"
   ]
  },
  {
   "cell_type": "code",
   "execution_count": null,
   "id": "4e701244",
   "metadata": {},
   "outputs": [],
   "source": []
  }
 ],
 "metadata": {
  "kernelspec": {
   "display_name": "Python 3",
   "language": "python",
   "name": "python3"
  },
  "language_info": {
   "codemirror_mode": {
    "name": "ipython",
    "version": 3
   },
   "file_extension": ".py",
   "mimetype": "text/x-python",
   "name": "python",
   "nbconvert_exporter": "python",
   "pygments_lexer": "ipython3",
   "version": "3.8.8"
  }
 },
 "nbformat": 4,
 "nbformat_minor": 5
}
